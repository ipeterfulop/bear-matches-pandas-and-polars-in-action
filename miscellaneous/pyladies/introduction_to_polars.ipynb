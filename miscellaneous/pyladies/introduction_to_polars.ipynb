{
 "cells": [
  {
   "metadata": {},
   "cell_type": "markdown",
   "source": "\n",
   "id": "1523f8e814ad0488"
  },
  {
   "metadata": {},
   "cell_type": "markdown",
   "source": [
    "\n",
    "# Bevezetés a Python Polars csomag használatába"
   ],
   "id": "c0ac4b307de055b1"
  },
  {
   "metadata": {},
   "cell_type": "markdown",
   "source": [
    "\n",
    "## 1. Telepítés\n",
    "\n",
    "Az alap csomag telepítése:\n",
    "```bash\n",
    " pip install polars\n",
    "```\n",
    "\n",
    "### 1.1 Opcionális csomagok (függőségek) telepítése\n",
    "\n",
    "| Tag        | Leírás                                                                                           |\n",
    "|------------|--------------------------------------------------------------------------------------------------|\n",
    "| all        | Az összes opcionális függőség telepítése (az összes alábbi)                                       |\n",
    "| pandas     | Telepítés Pandas-szal az adatok Pandas Dataframe-ekre/sorozatokra való átalakításához            |\n",
    "| numpy      | Telepítés numpy-val az adatok numpy tömbökké történő átalakításához                               |\n",
    "| pyarrow    | Adatformátumok olvasása a PyArrow használatával                                                  |\n",
    "| fsspec     | Távoli fájlrendszerekből való olvasás támogatása                                                 |\n",
    "| connectorx | SQL adatbázisokból való olvasás támogatása                                                       |\n",
    "| xlsx2csv   | Excel fájlokból való olvasás támogatása                                                          |\n",
    "| deltalake  | Delta Lake táblákból való olvasás támogatása                                                     |\n",
    "| timezone   | Időzóna támogatás, csak akkor szükséges, ha Python<3.9-et használ, vagy Windows rendszeren van   |\n",
    "\n",
    "Opcionális függőségek részhalmazainak telepítése:  \n",
    "```bash\n",
    " pip install 'polars[pandas,numpy]'\n",
    "```\n",
    "\n",
    "Az összes opcionális függőség telepítése:  \n",
    "```bash\n",
    "pip install 'polars[all]'\n",
    "``` \n",
    "\n",
    "### 1.2 Konfiguráció\n",
    "\n",
    "Konfigurációs lehetőségek a hivatalos dokumentációban: [Config](https://docs.pola.rs/api/python/stable/reference/config.html)\n"
   ],
   "id": "97b93085b985cac4"
  },
  {
   "metadata": {
    "ExecuteTime": {
     "end_time": "2024-10-29T16:03:22.877109Z",
     "start_time": "2024-10-29T16:03:22.870448Z"
    }
   },
   "cell_type": "code",
   "source": [
    "import polars as pl\n",
    "\n",
    "pl.Config.set_tbl_rows(3)  # Az alapértelmezett érték 10\n",
    "pl.Config.set_tbl_cols(None)  # Az alapértelmezett érték 10\n",
    "pl.Config.set_verbose(active=True)"
   ],
   "id": "91c1ea6cf2cef8a5",
   "outputs": [
    {
     "data": {
      "text/plain": [
       "polars.config.Config"
      ]
     },
     "execution_count": 9,
     "metadata": {},
     "output_type": "execute_result"
    }
   ],
   "execution_count": 9
  },
  {
   "metadata": {
    "ExecuteTime": {
     "end_time": "2024-10-29T16:03:22.905767Z",
     "start_time": "2024-10-29T16:03:22.900164Z"
    }
   },
   "cell_type": "code",
   "source": [
    "import random\n",
    "import string\n",
    "\n",
    "nr_cols = 10\n",
    "nr_rows = 6\n",
    "string_length = 5\n",
    "data = {}\n",
    "for i in range(nr_cols):\n",
    "    data[f'column_{i}'] = [\"\".join(random.choice(string.ascii_letters) for c in range(string_length)) \\\n",
    "                           for _ in range(nr_rows)]\n",
    "\n",
    "df = pl.DataFrame(data)\n",
    "print(df)\n",
    "\n",
    "print(\"Konfigurációs beállítások felülírása:\")\n",
    "with pl.Config(tbl_cols=-1):\n",
    "    print(df)"
   ],
   "id": "9f2208e98c44e5cc",
   "outputs": [
    {
     "name": "stdout",
     "output_type": "stream",
     "text": [
      "shape: (6, 10)\n",
      "┌──────────┬──────────┬──────────┬──────────┬───┬──────────┬──────────┬──────────┬──────────┐\n",
      "│ column_0 ┆ column_1 ┆ column_2 ┆ column_3 ┆ … ┆ column_6 ┆ column_7 ┆ column_8 ┆ column_9 │\n",
      "│ ---      ┆ ---      ┆ ---      ┆ ---      ┆   ┆ ---      ┆ ---      ┆ ---      ┆ ---      │\n",
      "│ str      ┆ str      ┆ str      ┆ str      ┆   ┆ str      ┆ str      ┆ str      ┆ str      │\n",
      "╞══════════╪══════════╪══════════╪══════════╪═══╪══════════╪══════════╪══════════╪══════════╡\n",
      "│ FpMqg    ┆ qeGWS    ┆ cXMjx    ┆ LoRYN    ┆ … ┆ ebLPK    ┆ ZPpGV    ┆ mkohU    ┆ HQQIQ    │\n",
      "│ CNBdC    ┆ wpooG    ┆ jmRRJ    ┆ IMzza    ┆ … ┆ iLIKy    ┆ pllEz    ┆ SXXgX    ┆ vOouI    │\n",
      "│ …        ┆ …        ┆ …        ┆ …        ┆ … ┆ …        ┆ …        ┆ …        ┆ …        │\n",
      "│ qGVdo    ┆ KhIwP    ┆ KcUKJ    ┆ HmAnz    ┆ … ┆ PnyIO    ┆ fdcIP    ┆ vnXll    ┆ MKZAc    │\n",
      "└──────────┴──────────┴──────────┴──────────┴───┴──────────┴──────────┴──────────┴──────────┘\n",
      "Konfigurációs beállítások felülírása:\n",
      "shape: (6, 10)\n",
      "┌─────────┬─────────┬─────────┬─────────┬─────────┬─────────┬─────────┬─────────┬─────────┬────────┐\n",
      "│ column_ ┆ column_ ┆ column_ ┆ column_ ┆ column_ ┆ column_ ┆ column_ ┆ column_ ┆ column_ ┆ column │\n",
      "│ 0       ┆ 1       ┆ 2       ┆ 3       ┆ 4       ┆ 5       ┆ 6       ┆ 7       ┆ 8       ┆ _9     │\n",
      "│ ---     ┆ ---     ┆ ---     ┆ ---     ┆ ---     ┆ ---     ┆ ---     ┆ ---     ┆ ---     ┆ ---    │\n",
      "│ str     ┆ str     ┆ str     ┆ str     ┆ str     ┆ str     ┆ str     ┆ str     ┆ str     ┆ str    │\n",
      "╞═════════╪═════════╪═════════╪═════════╪═════════╪═════════╪═════════╪═════════╪═════════╪════════╡\n",
      "│ FpMqg   ┆ qeGWS   ┆ cXMjx   ┆ LoRYN   ┆ RYaeE   ┆ cKYXR   ┆ ebLPK   ┆ ZPpGV   ┆ mkohU   ┆ HQQIQ  │\n",
      "│ CNBdC   ┆ wpooG   ┆ jmRRJ   ┆ IMzza   ┆ vmmQU   ┆ KqwCN   ┆ iLIKy   ┆ pllEz   ┆ SXXgX   ┆ vOouI  │\n",
      "│ …       ┆ …       ┆ …       ┆ …       ┆ …       ┆ …       ┆ …       ┆ …       ┆ …       ┆ …      │\n",
      "│ qGVdo   ┆ KhIwP   ┆ KcUKJ   ┆ HmAnz   ┆ teYJs   ┆ JqcMU   ┆ PnyIO   ┆ fdcIP   ┆ vnXll   ┆ MKZAc  │\n",
      "└─────────┴─────────┴─────────┴─────────┴─────────┴─────────┴─────────┴─────────┴─────────┴────────┘\n"
     ]
    }
   ],
   "execution_count": 10
  },
  {
   "metadata": {},
   "cell_type": "markdown",
   "source": [
    "## 2. Támogatott adattípusok\n",
    "\n",
    "Link a hivatalos dokumentáció kapcsolódó oldalához: [Data types](https://docs.pola.rs/api/python/stable/reference/datatypes.html)\n"
   ],
   "id": "e109350df19af0a5"
  },
  {
   "metadata": {
    "ExecuteTime": {
     "end_time": "2024-10-29T16:03:22.986339Z",
     "start_time": "2024-10-29T16:03:22.982157Z"
    }
   },
   "cell_type": "code",
   "source": [
    "df_szemelyek = pl.DataFrame({\n",
    "    \"nev\": [\"Kovács Jolán\", \"Nagy János\", \"Kiss Mária\", \"Nagy Zoltán\"],\n",
    "    \"nem\": [\"nő\", \"férfi\", \"nő\", \"férfi\"],\n",
    "    \"szuletesi_datum\": [\"1996-05-12\", \"1987-02-23\", \"1993-11-30\", \"1979-09-15\"],\n",
    "    \"magassag\": [165.5, 180.0, 173.3, 165.0]\n",
    "}, infer_schema_length=1)\n",
    "\n",
    "# infer_schema_length: int vagy None  \n",
    "# A séma kikövetkeztetéséhez beolvasandó maximális sorok száma. Ha None értékre van állítva, akkor a teljes adat beolvasható (ez lassú lehet).\n",
    "\n",
    "print(df_szemelyek.schema)\n",
    "print(df_szemelyek.dtypes)\n",
    "\n",
    "elvart_sema = pl.Schema({\n",
    "    \"x\": pl.Float64,\n",
    "    \"y\": pl.Float64,\n",
    "    \"szin\": pl.Utf8,\n",
    "    \"datum\": pl.Date\n",
    "})\n",
    "df_pontok = pl.DataFrame({\n",
    "    \"x\": [1.1, 2, 3.5, 4, 5],\n",
    "    \"y\": [6.5, -4, 3, 2.1, 1],\n",
    "    \"szin\": [\"piros\", \"kék\", \"piros\", \"sárga\", \"fekete\"],\n",
    "    \"datum\": [\"2021-01-12\", \"2021-02-23\", \"2021-03-30\", \"2021-04-15\", \"2021-05-20\"]\n",
    "}, schema=elvart_sema)\n",
    "\n",
    "print(df_pontok)\n",
    "\n"
   ],
   "id": "2e7c7ab9793d71a8",
   "outputs": [
    {
     "name": "stdout",
     "output_type": "stream",
     "text": [
      "Schema({'nev': String, 'nem': String, 'szuletesi_datum': String, 'magassag': Float64})\n",
      "[String, String, String, Float64]\n",
      "shape: (5, 4)\n",
      "┌─────┬──────┬────────┬────────────┐\n",
      "│ x   ┆ y    ┆ szin   ┆ datum      │\n",
      "│ --- ┆ ---  ┆ ---    ┆ ---        │\n",
      "│ f64 ┆ f64  ┆ str    ┆ date       │\n",
      "╞═════╪══════╪════════╪════════════╡\n",
      "│ 1.1 ┆ 6.5  ┆ piros  ┆ 2021-01-12 │\n",
      "│ 2.0 ┆ -4.0 ┆ kék    ┆ 2021-02-23 │\n",
      "│ …   ┆ …    ┆ …      ┆ …          │\n",
      "│ 5.0 ┆ 1.0  ┆ fekete ┆ 2021-05-20 │\n",
      "└─────┴──────┴────────┴────────────┘\n"
     ]
    }
   ],
   "execution_count": 11
  },
  {
   "metadata": {},
   "cell_type": "markdown",
   "source": [
    " ### 2.1 További adattípusok\n",
    "\n",
    "| Kategória       | Típus       | Leírás                                                                                                                     | Megjegyzés                                     |\n",
    "|:----------------|-------------|-----------------------------------------------------------------------------------------------------------------------------|------------------------------------------------|\n",
    "| Idő és dátum    | Date        | Naptári dátum típus. Az Arrow date32 adat típust használja, napok az 1970-01-01 UNIX epoch óta int32 formátumban.           | -5877641-06-24 és 5879610-09-09 között         |\n",
    "|                 | Datetime    | Naptári dátum és idő típus. Pontos időbélyeg int64 formátumban kódolva az UNIX epoch óta. Alapértelmezett egység mikroszekundum. |                                                |\n",
    "|                 | Duration    | Időtartam/különbség típus.                                                                                                  |                                                |\n",
    "|                 | Time        | Napi idő típus.                                                                                                            |                                                |\n",
    "| Beágyazott      | Array(*args, **kwargs) | Fix hosszúságú lista típus.                                                                                |                                                |\n",
    "|                 | List(*args, **kwargs)  | Változó hosszúságú lista típus.                                                                               |                                                |\n",
    "|                 | Struct(*args, **kwargs) | Struktúra típus.                                                                                             |                                                |\n",
    "| Egyéb           | Boolean     | Boolean típus, amely 1 bitnyi helyet foglal.                                                                               | Igaz vagy Hamis                                |\n",
    "|                 | Binary      | Bináris típus változó hosszúságú bájtokkal.                                                                                |                                                |\n",
    "|                 | Categorical | Egy kategóriák szerinti kódolás sztringek halmazához. Hatékonyabb memóriakezelést tesz lehetővé, ha egy oszlopban kevés egyedi sztring található. |                                                |\n",
    "|                 | Null        | Null / None értékeket képviselő típus.                                                                                     |                                                |\n",
    "|                 | Object      | Bármilyen Python objektum csomagolására szolgáló típus.                                                                    | Használata elkerülendő, amennyiben lehetséges. |\n",
    "|                 | String      | UTF-8 kódolású sztring típus változó hosszúsággal.                                                                         |                                                |\n",
    "|                 | Unknown     | Típus, amely azokat az adatértékeket képviseli, amelyeket statikusan nem lehetett meghatározni.                             |                                                |\n",
    "\n"
   ],
   "id": "e5020339eb24f389"
  },
  {
   "metadata": {},
   "cell_type": "markdown",
   "source": "Pár példa a fenti típusok használatára:",
   "id": "d470f253e7cbb64a"
  },
  {
   "metadata": {
    "ExecuteTime": {
     "end_time": "2024-10-29T16:03:23.026869Z",
     "start_time": "2024-10-29T16:03:23.023881Z"
    }
   },
   "cell_type": "code",
   "source": [
    "pontok_df = pl.DataFrame({\n",
    "    \"egesz_szamok\": [[1,2, -1], [3,4]],\n",
    "    \"tizedes_szamok\": [[4.2,-1, 3.1], [3, 1, 0, 2]]\n",
    "    }, strict=False)\n",
    "print(pontok_df)"
   ],
   "id": "6a435e1fc6e8b240",
   "outputs": [
    {
     "name": "stdout",
     "output_type": "stream",
     "text": [
      "shape: (2, 2)\n",
      "┌──────────────┬───────────────────┐\n",
      "│ egesz_szamok ┆ tizedes_szamok    │\n",
      "│ ---          ┆ ---               │\n",
      "│ list[i64]    ┆ list[f64]         │\n",
      "╞══════════════╪═══════════════════╡\n",
      "│ [1, 2, -1]   ┆ [4.2, -1.0, 3.1]  │\n",
      "│ [3, 4]       ┆ [3.0, 1.0, … 2.0] │\n",
      "└──────────────┴───────────────────┘\n"
     ]
    }
   ],
   "execution_count": 12
  },
  {
   "metadata": {
    "ExecuteTime": {
     "end_time": "2024-10-29T16:03:23.065077Z",
     "start_time": "2024-10-29T16:03:23.062266Z"
    }
   },
   "cell_type": "code",
   "source": [
    "df_tombok = pl.DataFrame(\n",
    "    [\n",
    "        pl.Series(\"tomb_1\", [[-1, 2], [2, 4]]),\n",
    "        pl.Series(\"tomb2_2\", [[1, 7, 1], [2, -1, 0]]),\n",
    "    ],\n",
    "    schema={\n",
    "        \"tomb_1\": pl.Array(shape=(2,), inner=pl.Int64),\n",
    "        \"tomb_2\": pl.Array(shape=(3,), inner=pl.Int64)\n",
    "    }\n",
    ")\n",
    "print(df_tombok)\n",
    "# korábban \"tomb_1\": pl.Array(width=2, ez deprecated lett\n"
   ],
   "id": "42391c66a1a7e97e",
   "outputs": [
    {
     "name": "stdout",
     "output_type": "stream",
     "text": [
      "shape: (2, 2)\n",
      "┌───────────────┬───────────────┐\n",
      "│ tomb_1        ┆ tomb_2        │\n",
      "│ ---           ┆ ---           │\n",
      "│ array[i64, 2] ┆ array[i64, 3] │\n",
      "╞═══════════════╪═══════════════╡\n",
      "│ [-1, 2]       ┆ [1, 7, 1]     │\n",
      "│ [2, 4]        ┆ [2, -1, 0]    │\n",
      "└───────────────┴───────────────┘\n"
     ]
    }
   ],
   "execution_count": 13
  },
  {
   "metadata": {},
   "cell_type": "markdown",
   "source": [
    "### 2.2 Konverziók\n",
    "\n",
    "    "
   ],
   "id": "d38707295559cb06"
  },
  {
   "metadata": {
    "ExecuteTime": {
     "end_time": "2024-10-29T16:03:23.089843Z",
     "start_time": "2024-10-29T16:03:23.085436Z"
    }
   },
   "cell_type": "code",
   "source": [
    "\n",
    "df = pl.DataFrame({\n",
    "    \"id\": [1, 2, 3, 4, 5],\n",
    "    \"meres_1\": [6, -1, 3, 9.0, -10],\n",
    "    \"meres_2\": [\"1.0\", \"2.0\", \"3.0\", \"4.0\", \"5.0\"]\n",
    "}, strict=False)\n",
    "print(df)\n",
    "print(f\"Becsült méret: {df.estimated_size('b')} bájt\")\n",
    "#region-> polars.DataFrame.cast() metódus használata\n",
    "df.with_columns(\n",
    "    pl.col(\"id\").cast(pl.UInt32),\n",
    "    pl.col(\"meres_1\").cast(pl.Int32),\n",
    "    pl.col(\"meres_2\").cast(pl.Float32).cast(pl.Int32)\n",
    ")\n",
    "\n",
    "print(df)\n",
    "print(f\"Becsült méret: {df.estimated_size('b')} bájt\")\n",
    "#endregion\n"
   ],
   "id": "dd8769828a327d6a",
   "outputs": [
    {
     "name": "stdout",
     "output_type": "stream",
     "text": [
      "shape: (5, 3)\n",
      "┌─────┬─────────┬─────────┐\n",
      "│ id  ┆ meres_1 ┆ meres_2 │\n",
      "│ --- ┆ ---     ┆ ---     │\n",
      "│ i64 ┆ f64     ┆ str     │\n",
      "╞═════╪═════════╪═════════╡\n",
      "│ 1   ┆ 6.0     ┆ 1.0     │\n",
      "│ 2   ┆ -1.0    ┆ 2.0     │\n",
      "│ …   ┆ …       ┆ …       │\n",
      "│ 5   ┆ -10.0   ┆ 5.0     │\n",
      "└─────┴─────────┴─────────┘\n",
      "Becsült méret: 95 bájt\n",
      "shape: (5, 3)\n",
      "┌─────┬─────────┬─────────┐\n",
      "│ id  ┆ meres_1 ┆ meres_2 │\n",
      "│ --- ┆ ---     ┆ ---     │\n",
      "│ i64 ┆ f64     ┆ str     │\n",
      "╞═════╪═════════╪═════════╡\n",
      "│ 1   ┆ 6.0     ┆ 1.0     │\n",
      "│ 2   ┆ -1.0    ┆ 2.0     │\n",
      "│ …   ┆ …       ┆ …       │\n",
      "│ 5   ┆ -10.0   ┆ 5.0     │\n",
      "└─────┴─────────┴─────────┘\n",
      "Becsült méret: 95 bájt\n"
     ]
    }
   ],
   "execution_count": 14
  },
  {
   "metadata": {
    "ExecuteTime": {
     "end_time": "2024-10-29T16:03:23.110953Z",
     "start_time": "2024-10-29T16:03:23.107439Z"
    }
   },
   "cell_type": "code",
   "source": [
    "df = pl.DataFrame({\n",
    "    \"id\": [1, 2, 3, 4, 5],\n",
    "    \"meres_1\": [6, -1, 3, 9.0, -10],\n",
    "    \"meres_2\": [1.0, -2.0, 4.0, 5.0, 6.0]\n",
    "}, strict=False).cast(pl.Int32)\n",
    "print(df)"
   ],
   "id": "8d113d9ff50f343",
   "outputs": [
    {
     "name": "stdout",
     "output_type": "stream",
     "text": [
      "shape: (5, 3)\n",
      "┌─────┬─────────┬─────────┐\n",
      "│ id  ┆ meres_1 ┆ meres_2 │\n",
      "│ --- ┆ ---     ┆ ---     │\n",
      "│ i32 ┆ i32     ┆ i32     │\n",
      "╞═════╪═════════╪═════════╡\n",
      "│ 1   ┆ 6       ┆ 1       │\n",
      "│ 2   ┆ -1      ┆ -2      │\n",
      "│ …   ┆ …       ┆ …       │\n",
      "│ 5   ┆ -10     ┆ 6       │\n",
      "└─────┴─────────┴─────────┘\n"
     ]
    }
   ],
   "execution_count": 15
  },
  {
   "metadata": {},
   "cell_type": "markdown",
   "source": [
    "## 3. Ismerkedés a polars.DataFrame osztállyal\n",
    "A `polars.DataFrame` osztály bemutatása a hivatalos dokumentációban:   \n",
    "[https://docs.pola.rs/api/python/stable/reference/dataframe/index.html](https://docs.pola.rs/api/python/stable/reference/dataframe/index.html)   és [implementációja a Github repóban](https://github.com/pola-rs/polars/blob/py-1.12.0/py-polars/polars/dataframe/frame.py#L191-L11302)  "
   ],
   "id": "cad14ca076dd62ae"
  },
  {
   "metadata": {},
   "cell_type": "markdown",
   "source": [
    "**Megjegyzés:** Amennyiben a `df.plot(...)` sorokra `ModuleUpgradeRequiredError: altair>=5.4.0 is required for .plot` hibával találkozunk akkor szükséges az `altair` parancs szükséges az alábbi parancs futtatása:\n",
    "```bash\n",
    "pip install --upgrade altair\n",
    "```"
   ],
   "id": "1a125db0bdbf8c0f"
  },
  {
   "metadata": {
    "ExecuteTime": {
     "end_time": "2024-10-29T16:03:23.164946Z",
     "start_time": "2024-10-29T16:03:23.133339Z"
    }
   },
   "cell_type": "code",
   "source": [
    "#region-> Példa egyszerű Polars dataframe létrehozására, adatok diagramon való megjelenítése\n",
    "import polars as pl\n",
    "from datetime import date\n",
    "\n",
    "df = pl.DataFrame(\n",
    "    {\n",
    "        \"date\": [date(2020, 1, 2), date(2020, 1, 3), date(2020, 1, 4)] * 2,\n",
    "        \"stock\": [\"a\", \"a\", \"a\", \"b\", \"b\", \"b\"],\n",
    "        \"price\": [1, 4, 6, 1, 5, 2],\n",
    "\n",
    "    }\n",
    ")\n",
    "\n",
    "print(f\"A DataFrame sémája: {df.schema}\")\n",
    "print(f\"A DataFrameben tárolt adatok megtekintése: {df}\")\n",
    "print(\"További információk:\", df.describe())\n",
    "\n",
    "df.plot.line(x=\"date\", y=\"price\", color=\"stock\")\n",
    "#endregion"
   ],
   "id": "ba0f7a30a457ed5d",
   "outputs": [
    {
     "name": "stdout",
     "output_type": "stream",
     "text": [
      "A DataFrame sémája: Schema({'date': Date, 'stock': String, 'price': Int64})\n",
      "A DataFrameben tárolt adatok megtekintése: shape: (6, 3)\n",
      "┌────────────┬───────┬───────┐\n",
      "│ date       ┆ stock ┆ price │\n",
      "│ ---        ┆ ---   ┆ ---   │\n",
      "│ date       ┆ str   ┆ i64   │\n",
      "╞════════════╪═══════╪═══════╡\n",
      "│ 2020-01-02 ┆ a     ┆ 1     │\n",
      "│ 2020-01-03 ┆ a     ┆ 4     │\n",
      "│ …          ┆ …     ┆ …     │\n",
      "│ 2020-01-04 ┆ b     ┆ 2     │\n",
      "└────────────┴───────┴───────┘\n",
      "További információk: shape: (9, 4)\n",
      "┌────────────┬────────────┬───────┬───────┐\n",
      "│ statistic  ┆ date       ┆ stock ┆ price │\n",
      "│ ---        ┆ ---        ┆ ---   ┆ ---   │\n",
      "│ str        ┆ str        ┆ str   ┆ f64   │\n",
      "╞════════════╪════════════╪═══════╪═══════╡\n",
      "│ count      ┆ 6          ┆ 6     ┆ 6.0   │\n",
      "│ null_count ┆ 0          ┆ 0     ┆ 0.0   │\n",
      "│ …          ┆ …          ┆ …     ┆ …     │\n",
      "│ max        ┆ 2020-01-04 ┆ b     ┆ 6.0   │\n",
      "└────────────┴────────────┴───────┴───────┘\n"
     ]
    },
    {
     "ename": "ModuleUpgradeRequiredError",
     "evalue": "hvplot>=0.9.1 is required for `.plot`",
     "output_type": "error",
     "traceback": [
      "\u001B[0;31m---------------------------------------------------------------------------\u001B[0m",
      "\u001B[0;31mModuleUpgradeRequiredError\u001B[0m                Traceback (most recent call last)",
      "\u001B[0;32m/var/folders/mb/jm40t3891xq0jskls9cm2djr0000gn/T/ipykernel_50016/3504305346.py\u001B[0m in \u001B[0;36m?\u001B[0;34m()\u001B[0m\n\u001B[1;32m     14\u001B[0m \u001B[0mprint\u001B[0m\u001B[0;34m(\u001B[0m\u001B[0;34mf\"\u001B[0m\u001B[0;34mA DataFrame sémája: \u001B[0m\u001B[0;34m{\u001B[0m\u001B[0mdf\u001B[0m\u001B[0;34m.\u001B[0m\u001B[0mschema\u001B[0m\u001B[0;34m}\u001B[0m\u001B[0;34m\"\u001B[0m\u001B[0;34m)\u001B[0m\u001B[0;34m\u001B[0m\u001B[0;34m\u001B[0m\u001B[0m\n\u001B[1;32m     15\u001B[0m \u001B[0mprint\u001B[0m\u001B[0;34m(\u001B[0m\u001B[0;34mf\"\u001B[0m\u001B[0;34mA DataFrameben tárolt adatok megtekintése: \u001B[0m\u001B[0;34m{\u001B[0m\u001B[0mdf\u001B[0m\u001B[0;34m}\u001B[0m\u001B[0;34m\"\u001B[0m\u001B[0;34m)\u001B[0m\u001B[0;34m\u001B[0m\u001B[0;34m\u001B[0m\u001B[0m\n\u001B[1;32m     16\u001B[0m \u001B[0mprint\u001B[0m\u001B[0;34m(\u001B[0m\u001B[0;34m\"További információk:\"\u001B[0m\u001B[0;34m,\u001B[0m \u001B[0mdf\u001B[0m\u001B[0;34m.\u001B[0m\u001B[0mdescribe\u001B[0m\u001B[0;34m(\u001B[0m\u001B[0;34m)\u001B[0m\u001B[0;34m)\u001B[0m\u001B[0;34m\u001B[0m\u001B[0;34m\u001B[0m\u001B[0m\n\u001B[1;32m     17\u001B[0m \u001B[0;34m\u001B[0m\u001B[0m\n\u001B[0;32m---> 18\u001B[0;31m \u001B[0mdf\u001B[0m\u001B[0;34m.\u001B[0m\u001B[0mplot\u001B[0m\u001B[0;34m.\u001B[0m\u001B[0mline\u001B[0m\u001B[0;34m(\u001B[0m\u001B[0mx\u001B[0m\u001B[0;34m=\u001B[0m\u001B[0;34m\"date\"\u001B[0m\u001B[0;34m,\u001B[0m \u001B[0my\u001B[0m\u001B[0;34m=\u001B[0m\u001B[0;34m\"price\"\u001B[0m\u001B[0;34m,\u001B[0m \u001B[0mcolor\u001B[0m\u001B[0;34m=\u001B[0m\u001B[0;34m\"stock\"\u001B[0m\u001B[0;34m)\u001B[0m\u001B[0;34m\u001B[0m\u001B[0;34m\u001B[0m\u001B[0m\n\u001B[0m\u001B[1;32m     19\u001B[0m \u001B[0;31m#endregion\u001B[0m\u001B[0;34m\u001B[0m\u001B[0;34m\u001B[0m\u001B[0m\n",
      "\u001B[0;32m/opt/homebrew/Caskroom/miniforge/base/envs/spark_at_py12/lib/python3.12/site-packages/polars/_utils/unstable.py\u001B[0m in \u001B[0;36m?\u001B[0;34m(*args, **kwargs)\u001B[0m\n\u001B[1;32m     55\u001B[0m         \u001B[0;34m@\u001B[0m\u001B[0mwraps\u001B[0m\u001B[0;34m(\u001B[0m\u001B[0mfunction\u001B[0m\u001B[0;34m)\u001B[0m\u001B[0;34m\u001B[0m\u001B[0;34m\u001B[0m\u001B[0m\n\u001B[1;32m     56\u001B[0m         \u001B[0;32mdef\u001B[0m \u001B[0mwrapper\u001B[0m\u001B[0;34m(\u001B[0m\u001B[0;34m*\u001B[0m\u001B[0margs\u001B[0m\u001B[0;34m:\u001B[0m \u001B[0mP\u001B[0m\u001B[0;34m.\u001B[0m\u001B[0margs\u001B[0m\u001B[0;34m,\u001B[0m \u001B[0;34m**\u001B[0m\u001B[0mkwargs\u001B[0m\u001B[0;34m:\u001B[0m \u001B[0mP\u001B[0m\u001B[0;34m.\u001B[0m\u001B[0mkwargs\u001B[0m\u001B[0;34m)\u001B[0m \u001B[0;34m->\u001B[0m \u001B[0mT\u001B[0m\u001B[0;34m:\u001B[0m\u001B[0;34m\u001B[0m\u001B[0;34m\u001B[0m\u001B[0m\n\u001B[1;32m     57\u001B[0m             \u001B[0missue_unstable_warning\u001B[0m\u001B[0;34m(\u001B[0m\u001B[0;34mf\"\u001B[0m\u001B[0;34m`\u001B[0m\u001B[0;34m{\u001B[0m\u001B[0mfunction\u001B[0m\u001B[0;34m.\u001B[0m\u001B[0m__name__\u001B[0m\u001B[0;34m}\u001B[0m\u001B[0;34m` is considered unstable.\u001B[0m\u001B[0;34m\"\u001B[0m\u001B[0;34m)\u001B[0m\u001B[0;34m\u001B[0m\u001B[0;34m\u001B[0m\u001B[0m\n\u001B[0;32m---> 58\u001B[0;31m             \u001B[0;32mreturn\u001B[0m \u001B[0mfunction\u001B[0m\u001B[0;34m(\u001B[0m\u001B[0;34m*\u001B[0m\u001B[0margs\u001B[0m\u001B[0;34m,\u001B[0m \u001B[0;34m**\u001B[0m\u001B[0mkwargs\u001B[0m\u001B[0;34m)\u001B[0m\u001B[0;34m\u001B[0m\u001B[0;34m\u001B[0m\u001B[0m\n\u001B[0m",
      "\u001B[0;32m/opt/homebrew/Caskroom/miniforge/base/envs/spark_at_py12/lib/python3.12/site-packages/polars/dataframe/frame.py\u001B[0m in \u001B[0;36m?\u001B[0;34m(self)\u001B[0m\n\u001B[1;32m    633\u001B[0m         if not _HVPLOT_AVAILABLE or parse_version(hvplot.__version__) < parse_version(\n\u001B[1;32m    634\u001B[0m             \u001B[0;34m\"0.9.1\"\u001B[0m\u001B[0;34m\u001B[0m\u001B[0;34m\u001B[0m\u001B[0m\n\u001B[1;32m    635\u001B[0m         \u001B[0;34m)\u001B[0m\u001B[0;34m:\u001B[0m\u001B[0;34m\u001B[0m\u001B[0;34m\u001B[0m\u001B[0m\n\u001B[1;32m    636\u001B[0m             \u001B[0mmsg\u001B[0m \u001B[0;34m=\u001B[0m \u001B[0;34m\"hvplot>=0.9.1 is required for `.plot`\"\u001B[0m\u001B[0;34m\u001B[0m\u001B[0;34m\u001B[0m\u001B[0m\n\u001B[0;32m--> 637\u001B[0;31m             \u001B[0;32mraise\u001B[0m \u001B[0mModuleUpgradeRequiredError\u001B[0m\u001B[0;34m(\u001B[0m\u001B[0mmsg\u001B[0m\u001B[0;34m)\u001B[0m\u001B[0;34m\u001B[0m\u001B[0;34m\u001B[0m\u001B[0m\n\u001B[0m\u001B[1;32m    638\u001B[0m         \u001B[0mhvplot\u001B[0m\u001B[0;34m.\u001B[0m\u001B[0mpost_patch\u001B[0m\u001B[0;34m(\u001B[0m\u001B[0;34m)\u001B[0m\u001B[0;34m\u001B[0m\u001B[0;34m\u001B[0m\u001B[0m\n\u001B[1;32m    639\u001B[0m         \u001B[0;32mreturn\u001B[0m \u001B[0mhvplot\u001B[0m\u001B[0;34m.\u001B[0m\u001B[0mplotting\u001B[0m\u001B[0;34m.\u001B[0m\u001B[0mcore\u001B[0m\u001B[0;34m.\u001B[0m\u001B[0mhvPlotTabularPolars\u001B[0m\u001B[0;34m(\u001B[0m\u001B[0mself\u001B[0m\u001B[0;34m)\u001B[0m\u001B[0;34m\u001B[0m\u001B[0;34m\u001B[0m\u001B[0m\n",
      "\u001B[0;31mModuleUpgradeRequiredError\u001B[0m: hvplot>=0.9.1 is required for `.plot`"
     ]
    }
   ],
   "execution_count": 16
  },
  {
   "metadata": {},
   "cell_type": "markdown",
   "source": [
    "Hozzunk létre egy Polars DataFrame-t egy Pandas DataFrame-ből.  \n",
    "[polars.from_pandas](https://docs.pola.rs/api/python/stable/reference/api/polars.from_pandas.html#polars-from-pandas)  \n",
    "[polars.DataFrame.to_pandas](https://docs.pola.rs/api/python/stable/reference/dataframe/api/polars.DataFrame.to_pandas.html#polars.DataFrame.to_pandas)\n",
    " \n"
   ],
   "id": "bb3b10fccd6c16f1"
  },
  {
   "metadata": {},
   "cell_type": "code",
   "source": [
    "#region-> Példa a Polars és Pandas DataFrame-k közötti konverzióra\n",
    "import pandas as pd\n",
    "import polars as pl\n",
    "\n",
    "df_pd = pd.DataFrame({\n",
    "    'x': [1, 2, 3],\n",
    "    'y': [4, 5, 6],\n",
    "    'z': [7, 8, 9]\n",
    "})\n",
    "\n",
    "\n",
    "df_pl = pl.from_pandas(df_pd)\n",
    "df_pd['x'] = [10, 20, 30]\n",
    "\n",
    "print(\"A módosított Pandas dataframe:\")\n",
    "print(df_pd)\n",
    "\n",
    "print(\"\\nA Polars dataframe nem módosul\")\n",
    "print(df_pl)\n",
    "#endregion\n"
   ],
   "id": "f8400ea1fdf53cb2",
   "outputs": [],
   "execution_count": null
  },
  {
   "metadata": {},
   "cell_type": "markdown",
   "source": [
    "### M01 - első mérkőzés  \n",
    "![](assets/pandas_vs_polars_h_128.png)  \n",
    "\n",
    " \n",
    "Most hogy lassan ismerkedünk az új szintaxissal, ideje egy kis mérkőzésnek: nyissuk meg a `introduction_to_polars.ipynb` Jupyter notebookot."
   ],
   "id": "4677a51ef26dd9ae"
  },
  {
   "metadata": {},
   "cell_type": "markdown",
   "source": [
    "## 4. Kifejezések, DataFrame műveletek\n",
    "Link a dokumentációhoz: [Expressions](https://docs.pola.rs/api/python/stable/reference/expressions/index.html). "
   ],
   "id": "54470b0a4fae8b00"
  },
  {
   "metadata": {},
   "cell_type": "markdown",
   "source": [
    "\n",
    "A kifejezések a Polars könyvtár egyik alapeleme, mégis önmagukban a kifejezések nem tesznek semmit.  \n",
    "A gyakorlatban a kifejezéseket úgy alkalmazzák, hogy átadják őket néhány `DataFrame` vagy `LazyFrame` metódusnak.\n",
    "\n",
    "Nézünk pár példát a kifejezések használatára:\n",
    "\n",
    "- Oszlopok kiválasztása a `df.select()` metódussal\n",
    "- Új oszlopok létrehozása a `df.with_columns()` metódussal\n",
    "- Sorok szűrése a `df.filter()` metódussal\n",
    "- Aggregálás a `df.group_by()` metódussal\n",
    "- Sorok rendezése a `df.sort()` metódussal\n",
    "\n",
    "A példákhoz használjuk a már jól ismert pingvin datasetet."
   ],
   "id": "8cf7c17eef0eee91"
  },
  {
   "metadata": {},
   "cell_type": "markdown",
   "source": "### 4.1 Oszlopok kiválasztása, létrehozása",
   "id": "9d9531cc3d4968e4"
  },
  {
   "metadata": {},
   "cell_type": "code",
   "source": [
    "import polars as pl\n",
    "\n",
    "\n",
    "def get_penguins_df() -> pl.DataFrame:\n",
    "    \"\"\"\n",
    "    \n",
    "    :return: \n",
    "    \"\"\"\n",
    "    return pl.read_csv(\"data/penguins.csv\", null_values=\"NA\")\n",
    "\n",
    "\n",
    "#region-> beolvasás csv fájlból\n",
    "df = get_penguins_df()\n",
    "with pl.Config(tbl_cols=-1, tbl_rows=10):\n",
    "    print(df.schema)\n",
    "    print(df)\n",
    "#endregion    \n"
   ],
   "id": "d1286add76769211",
   "outputs": [],
   "execution_count": null
  },
  {
   "metadata": {},
   "cell_type": "code",
   "source": [
    "# Válasszuk ki az összes oszlopot\n",
    "df.select(\"*\")\n",
    "df.select(pl.all())"
   ],
   "id": "c512dceefedcc2bc",
   "outputs": [],
   "execution_count": null
  },
  {
   "metadata": {},
   "cell_type": "code",
   "source": [
    "#region-> kifejezések használata a DataFrame.select() metódussal\n",
    "df.select(\n",
    "    pl.col(\"rowid\"),\n",
    "    pl.col(\"species\"),  # fontos, az oszlopok neve case-sensitive\n",
    "    pl.col(\"^bill.*$\")  # reguláris kifejezés használata az oszlopok kiválasztásra\n",
    ")\n",
    "#endregion"
   ],
   "id": "a170cbe78d63c616",
   "outputs": [],
   "execution_count": null
  },
  {
   "metadata": {},
   "cell_type": "markdown",
   "source": "#### 4.1.1 Szelektorok (`column selectors`) használata",
   "id": "ac69b44125bd8acf"
  },
  {
   "metadata": {},
   "cell_type": "code",
   "source": [
    "import polars.selectors as cs\n",
    "\n",
    "df.select(\n",
    "    cs.by_name(\"species\"),\n",
    "    cs.starts_with(\"bill\"),\n",
    "    cs.contains(\"flipper\")\n",
    ")\n",
    "\n",
    "# oszlop típusa szerinti kiválasztás\n",
    "df.select(cs.by_dtype(pl.UInt16))\n",
    "\n",
    "# oszlopok indexe szerinti kiválasztás\n",
    "df.select(cs.by_index(range(0,3)))\n",
    "\n",
    "# szelektorok összekapcsolása\n",
    "df.select(cs.by_index(range(0,3)) & ~cs.by_dtype(pl.UInt16))\n"
   ],
   "id": "218f465b9a22b984",
   "outputs": [],
   "execution_count": null
  },
  {
   "metadata": {},
   "cell_type": "markdown",
   "source": [
    "A szelektor operátorokkal 0 vagy több oszlopot tartalmazó halmazt választunk ki.  \n",
    "\n",
    "\n",
    "\n",
    "| Szelektor operátor | Inline Operátor | Leírás                          |\n",
    "|--------------------|-----------------|---------------------------------|\n",
    "| Unió               | \\|              | `x`, vagy `y`, vagy mindkettő   |\n",
    "| Metszet            | &               | mindkettő, `x` és `y` is        |\n",
    "| Különbség          | -               | `x`, ami nincs benne `y`-ban    |\n",
    "| Kizáró VAGY        | ^               | `x`, vagy `y`, de nem mindkettő |\n",
    "| Negáció            | ~               | Nincs benne `x`-ben             |"
   ],
   "id": "e81de4e8554d1b"
  },
  {
   "metadata": {},
   "cell_type": "markdown",
   "source": "### 4.2 Új oszlopok létrehozása",
   "id": "31f95fad92aeb962"
  },
  {
   "metadata": {},
   "cell_type": "code",
   "source": [
    "# feltételezzük, hogy a 2009-es méréseket követően a pingvinek szárnyainak 10%-os növekedése várható\n",
    "# hozzunk létre egy flipper_legth_in_one_year_mm oszlopot, amely a flipper_length_mm oszlop értékének 10%-ával növelt értékeket tartalmazza\n",
    "df = get_penguins_df()\n",
    "\n",
    "(df.with_columns(\n",
    "    # pl.col(\"flipper_length_mm\").mul(1.1).alias(\"flipper_length_in_one_year_mm\"),\n",
    "    (pl.col(\"flipper_length_mm\") * 1.1).alias(\"flipper_length_in_one_year_mm\"),\n",
    "    (pl.col(\"flipper_length_mm\") / pl.col(\"bill_length_mm\")).alias(\"flipper_to_bill_ratio\"))\n",
    ".with_columns(\n",
    "    bill_length_depth_ratio=pl.col(\"bill_length_mm\") / pl.col(\"bill_depth_mm\"),\n",
    "    planet=pl.lit(\"Earth\"))\n",
    ".select(\n",
    "    pl.col(\"rowid\"),\n",
    "    pl.col(\"species\"),\n",
    "    pl.col(\"bill_length_mm\"),\n",
    "    pl.col(\"flipper_length_mm\"),\n",
    "    pl.col(\"flipper_length_in_one_year_mm\"),\n",
    "    pl.col(\"flipper_to_bill_ratio\"),\n",
    "    pl.col(\"bill_length_depth_ratio\"),\n",
    "    pl.col(\"planet\")\n",
    "))\n"
   ],
   "id": "8f63cb299b92f985",
   "outputs": [],
   "execution_count": null
  },
  {
   "metadata": {},
   "cell_type": "markdown",
   "source": [
    "\n",
    "### 4.3 Szűrés\n",
    "\n",
    "Dokumentáció: [df.filter() metódus használata a sorok szűrésére](https://docs.pola.rs/api/python/stable/reference/dataframe/api/polars.DataFrame.filter.html)"
   ],
   "id": "1d6401c0943ffb2"
  },
  {
   "metadata": {},
   "cell_type": "code",
   "source": [
    "df.filter(\n",
    "    pl.col(\"species\") == \"Adelie\",\n",
    "    pl.col(\"island\") == \"Biscoe\",\n",
    "    pl.col(\"flipper_length_mm\") > 180,\n",
    "    pl.all().is_not_null()\n",
    ")"
   ],
   "id": "61f9bf29474b1dfa",
   "outputs": [],
   "execution_count": null
  },
  {
   "metadata": {},
   "cell_type": "markdown",
   "source": "### 4.4 Rendezés",
   "id": "2712c57751b26a6e"
  },
  {
   "metadata": {},
   "cell_type": "code",
   "source": [
    "\n",
    "df1 = get_penguins_df()\n",
    "\n",
    "# Rendezés egy szempont szerint\n",
    "df1 \\\n",
    "    .filter(pl.col(\"rowid\").is_between(4, 12)) \\\n",
    "    .sort(\"flipper_length_mm\", nulls_last=True)"
   ],
   "id": "9b990d5a98c57a31",
   "outputs": [],
   "execution_count": null
  },
  {
   "metadata": {},
   "cell_type": "code",
   "source": [
    "# Rendezés több szempont szerint\n",
    "df1.sort(\"species\", \"bill_length_mm\", \"bill_depth_mm\", \"flipper_length_mm\",\n",
    "         descending=[False, True, True, True],\n",
    "         nulls_last=True)\n"
   ],
   "id": "69ce82029810a01e",
   "outputs": [],
   "execution_count": null
  },
  {
   "metadata": {},
   "cell_type": "markdown",
   "source": "## 5. Adatok lekérdezése több DataFrame-ből (joins)",
   "id": "7ffd81b71ba30074"
  },
  {
   "metadata": {},
   "cell_type": "code",
   "source": [
    "df_movies = pl.read_json(\"data/movies.json\")\n",
    "print(df_movies.schema)\n",
    "df_movies.head(10)"
   ],
   "id": "3f9a9f18506f9154",
   "outputs": [],
   "execution_count": null
  },
  {
   "metadata": {},
   "cell_type": "code",
   "source": [
    "df_movie_genre = pl.read_json(\"data/movie_genre.json\")\n",
    "print(df_movie_genre.schema)\n",
    "df_movie_genre.head(10)"
   ],
   "id": "c811345085c3ceec",
   "outputs": [],
   "execution_count": null
  },
  {
   "metadata": {},
   "cell_type": "code",
   "source": [
    "df_genres = pl.read_json(\"data/genres.json\")\n",
    "print(df_genres.schema)\n",
    "df_genres.head(10)"
   ],
   "id": "95cf76b0c6ec7c9a",
   "outputs": [],
   "execution_count": null
  },
  {
   "metadata": {},
   "cell_type": "code",
   "source": [
    "df_combined = (df_movies\n",
    ".join(df_movie_genre, on='movie_id', how=\"inner\").join(df_genres, on='genre_id')\n",
    ".select([\n",
    "    pl.col('movie_id'),\n",
    "    pl.col('title'),\n",
    "    pl.col('genre_name')\n",
    "]))\n",
    "df_combined\n"
   ],
   "id": "7e21cab4205eb760",
   "outputs": [],
   "execution_count": null
  },
  {
   "metadata": {},
   "cell_type": "code",
   "source": [
    "df_movies_with_genres = df_combined \\\n",
    "    .group_by('movie_id') \\\n",
    "    .agg([\n",
    "    pl.col('title').first(),  # Get the movie title (assuming it's the same for each movie_id)\n",
    "    pl.col('genre_name')  # Collect genres into a list for each movie\n",
    "]) \\\n",
    "    .filter(pl.col(\"title\") == \"Four Rooms\")\n",
    "df_movies_with_genres\n"
   ],
   "id": "9b98d07d384cf5aa",
   "outputs": [],
   "execution_count": null
  },
  {
   "metadata": {},
   "cell_type": "code",
   "source": "",
   "id": "8cab0136636e92b4",
   "outputs": [],
   "execution_count": null
  }
 ],
 "metadata": {
  "kernelspec": {
   "display_name": "Python 3",
   "language": "python",
   "name": "python3"
  },
  "language_info": {
   "codemirror_mode": {
    "name": "ipython",
    "version": 2
   },
   "file_extension": ".py",
   "mimetype": "text/x-python",
   "name": "python",
   "nbconvert_exporter": "python",
   "pygments_lexer": "ipython2",
   "version": "2.7.6"
  }
 },
 "nbformat": 4,
 "nbformat_minor": 5
}

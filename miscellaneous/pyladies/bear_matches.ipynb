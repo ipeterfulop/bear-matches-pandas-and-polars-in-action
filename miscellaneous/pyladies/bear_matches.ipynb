{
 "cells": [
  {
   "metadata": {},
   "cell_type": "markdown",
   "source": [
    "# Pandas és Polars mérközések\n",
    "![Pandas vs Polars](assets/polars_pandas_arm_wrestling.png)\n",
    "\n"
   ],
   "id": "3c6439450316e32e"
  },
  {
   "metadata": {
    "ExecuteTime": {
     "end_time": "2024-10-29T16:05:15.057881Z",
     "start_time": "2024-10-29T16:05:15.038183Z"
    }
   },
   "cell_type": "code",
   "source": [
    "import pandas as pd\n",
    "import polars as pl\n",
    "import numpy as np"
   ],
   "id": "e3dbcb95be99f840",
   "outputs": [],
   "execution_count": 4
  },
  {
   "metadata": {},
   "cell_type": "markdown",
   "source": "",
   "id": "81e1c07f49b9b1f7"
  },
  {
   "metadata": {
    "ExecuteTime": {
     "end_time": "2024-10-29T16:05:17.653565Z",
     "start_time": "2024-10-29T16:05:17.298937Z"
    }
   },
   "cell_type": "code",
   "source": [
    "import time\n",
    "\n",
    "verbose = True\n",
    "#region-> Példa Polars és Pandas DataFrame létrehozására, feltöltése\n",
    "number_of_rows = 1_000_000\n",
    "max_fill_value = 1_0000\n",
    "exclude_threshold = 100\n",
    "\n",
    "values_x = np.random.randint(1, max_fill_value, number_of_rows)\n",
    "values_y = np.random.randint(1, max_fill_value, number_of_rows)\n",
    "values_z = np.random.randint(1, max_fill_value, number_of_rows)\n",
    "group_values = np.random.choice(list(\"ABC\"), number_of_rows)\n",
    "\n",
    "df_pd = pd.DataFrame({\n",
    "    \"x\": values_x,\n",
    "    \"y\": values_y,\n",
    "    \"z\": values_z,\n",
    "    \"group\": group_values\n",
    "})\n",
    "\n",
    "df_pl = pl.from_pandas(df_pd)\n",
    "#endregion\n",
    "\n",
    "#region -> Műveletek Polars DataFrame-nél (szűrés, csoportosítás, aggregálás, rendezés)\n",
    "start_time = time.time()\n",
    "result_pl = (\n",
    "    df_pl\n",
    "    .filter(pl.col(\"x\") > exclude_threshold)  # Filter rows where x > 100\n",
    "    .group_by(\"group\")\n",
    "    .agg([\n",
    "        pl.col(\"x\").mean().alias(\"x_mean\"),\n",
    "        pl.col(\"y\").mean().alias(\"y_mean\"),\n",
    "        pl.col(\"z\").mean().alias(\"z_mean\")\n",
    "    ])\n",
    "    .sort('group')\n",
    ")\n",
    "polars_time = time.time() - start_time\n",
    "#enregion\n",
    "\n",
    "if verbose:\n",
    "    print(f\"Az eredmény Polars dataframe esetén {polars_time:.4f} másodperc alatt készült.\")\n",
    "    print(result_pl)\n",
    "\n",
    "#region -> Műveletek Pandas DataFrame-nél (szűrés, csoportosítás, aggregálás, rendezés)\n",
    "start_time = time.time()\n",
    "result_pd = (\n",
    "    df_pd[df_pd[\"x\"] > exclude_threshold]\n",
    "    .groupby(\"group\")[[\"x\", \"y\", \"z\"]]\n",
    "    .mean()\n",
    "    .rename(columns={\"x\": \"x_mean\", \"y\": \"y_mean\", \"z\": \"z_mean\"})\n",
    "    .reset_index()\n",
    "    .sort_values(by=\"group\")\n",
    ")\n",
    "pandas_time = time.time() - start_time\n",
    "#endregion\n",
    "\n",
    "\n",
    "if verbose:\n",
    "    print(f\"Az eredmény Polars dataframe esetén {pandas_time:.4f} másodperc alatt készült.\")\n",
    "    print(result_pl)\n",
    "\n",
    "df_time_results = pl.DataFrame({\n",
    "    \"library\": [\"Polars\", \"Pandas\"],\n",
    "    \"time\": [polars_time, pandas_time]\n",
    "})\n",
    "\n",
    "df_time_results \\\n",
    "    .plot \\\n",
    "    .bar(x=\"library\", y=\"time\") \\\n",
    "    .properties(title=\"Mérési eredmények\", width=400, height=300)\n"
   ],
   "id": "6f83312936c2a4c",
   "outputs": [
    {
     "name": "stdout",
     "output_type": "stream",
     "text": [
      "Az eredmény Polars dataframe esetén 0.0313 másodperc alatt készült.\n",
      "shape: (3, 4)\n",
      "┌───────┬─────────────┬─────────────┬─────────────┐\n",
      "│ group ┆ x_mean      ┆ y_mean      ┆ z_mean      │\n",
      "│ ---   ┆ ---         ┆ ---         ┆ ---         │\n",
      "│ str   ┆ f64         ┆ f64         ┆ f64         │\n",
      "╞═══════╪═════════════╪═════════════╪═════════════╡\n",
      "│ A     ┆ 5052.968069 ┆ 4997.997886 ┆ 4997.554708 │\n",
      "│ B     ┆ 5050.972327 ┆ 5006.834    ┆ 5004.157988 │\n",
      "│ C     ┆ 5048.74408  ┆ 5001.330012 ┆ 5007.063185 │\n",
      "└───────┴─────────────┴─────────────┴─────────────┘\n",
      "Az eredmény Polars dataframe esetén 0.0648 másodperc alatt készült.\n",
      "shape: (3, 4)\n",
      "┌───────┬─────────────┬─────────────┬─────────────┐\n",
      "│ group ┆ x_mean      ┆ y_mean      ┆ z_mean      │\n",
      "│ ---   ┆ ---         ┆ ---         ┆ ---         │\n",
      "│ str   ┆ f64         ┆ f64         ┆ f64         │\n",
      "╞═══════╪═════════════╪═════════════╪═════════════╡\n",
      "│ A     ┆ 5052.968069 ┆ 4997.997886 ┆ 4997.554708 │\n",
      "│ B     ┆ 5050.972327 ┆ 5006.834    ┆ 5004.157988 │\n",
      "│ C     ┆ 5048.74408  ┆ 5001.330012 ┆ 5007.063185 │\n",
      "└───────┴─────────────┴─────────────┴─────────────┘\n"
     ]
    },
    {
     "ename": "ModuleUpgradeRequiredError",
     "evalue": "hvplot>=0.9.1 is required for `.plot`",
     "output_type": "error",
     "traceback": [
      "\u001B[0;31m---------------------------------------------------------------------------\u001B[0m",
      "\u001B[0;31mModuleUpgradeRequiredError\u001B[0m                Traceback (most recent call last)",
      "\u001B[0;32m/var/folders/mb/jm40t3891xq0jskls9cm2djr0000gn/T/ipykernel_50896/1812476281.py\u001B[0m in \u001B[0;36m?\u001B[0;34m()\u001B[0m\n\u001B[1;32m     64\u001B[0m     \u001B[0;34m\"time\"\u001B[0m\u001B[0;34m:\u001B[0m \u001B[0;34m[\u001B[0m\u001B[0mpolars_time\u001B[0m\u001B[0;34m,\u001B[0m \u001B[0mpandas_time\u001B[0m\u001B[0;34m]\u001B[0m\u001B[0;34m\u001B[0m\u001B[0;34m\u001B[0m\u001B[0m\n\u001B[1;32m     65\u001B[0m \u001B[0;34m}\u001B[0m\u001B[0;34m)\u001B[0m\u001B[0;34m\u001B[0m\u001B[0;34m\u001B[0m\u001B[0m\n\u001B[1;32m     66\u001B[0m \u001B[0;34m\u001B[0m\u001B[0m\n\u001B[1;32m     67\u001B[0m df_time_results \\\n\u001B[0;32m---> 68\u001B[0;31m     .plot \\\n\u001B[0m\u001B[1;32m     69\u001B[0m     .bar(x=\"library\", y=\"time\") \\\n\u001B[1;32m     70\u001B[0m     \u001B[0;34m.\u001B[0m\u001B[0mproperties\u001B[0m\u001B[0;34m(\u001B[0m\u001B[0mtitle\u001B[0m\u001B[0;34m=\u001B[0m\u001B[0;34m\"Mérési eredmények\"\u001B[0m\u001B[0;34m,\u001B[0m \u001B[0mwidth\u001B[0m\u001B[0;34m=\u001B[0m\u001B[0;36m400\u001B[0m\u001B[0;34m,\u001B[0m \u001B[0mheight\u001B[0m\u001B[0;34m=\u001B[0m\u001B[0;36m300\u001B[0m\u001B[0;34m)\u001B[0m\u001B[0;34m\u001B[0m\u001B[0;34m\u001B[0m\u001B[0m\n\u001B[1;32m     71\u001B[0m \u001B[0;34m\u001B[0m\u001B[0m\n",
      "\u001B[0;32m/opt/homebrew/Caskroom/miniforge/base/envs/spark_at_py12/lib/python3.12/site-packages/polars/_utils/unstable.py\u001B[0m in \u001B[0;36m?\u001B[0;34m(*args, **kwargs)\u001B[0m\n\u001B[1;32m     55\u001B[0m         \u001B[0;34m@\u001B[0m\u001B[0mwraps\u001B[0m\u001B[0;34m(\u001B[0m\u001B[0mfunction\u001B[0m\u001B[0;34m)\u001B[0m\u001B[0;34m\u001B[0m\u001B[0;34m\u001B[0m\u001B[0m\n\u001B[1;32m     56\u001B[0m         \u001B[0;32mdef\u001B[0m \u001B[0mwrapper\u001B[0m\u001B[0;34m(\u001B[0m\u001B[0;34m*\u001B[0m\u001B[0margs\u001B[0m\u001B[0;34m:\u001B[0m \u001B[0mP\u001B[0m\u001B[0;34m.\u001B[0m\u001B[0margs\u001B[0m\u001B[0;34m,\u001B[0m \u001B[0;34m**\u001B[0m\u001B[0mkwargs\u001B[0m\u001B[0;34m:\u001B[0m \u001B[0mP\u001B[0m\u001B[0;34m.\u001B[0m\u001B[0mkwargs\u001B[0m\u001B[0;34m)\u001B[0m \u001B[0;34m->\u001B[0m \u001B[0mT\u001B[0m\u001B[0;34m:\u001B[0m\u001B[0;34m\u001B[0m\u001B[0;34m\u001B[0m\u001B[0m\n\u001B[1;32m     57\u001B[0m             \u001B[0missue_unstable_warning\u001B[0m\u001B[0;34m(\u001B[0m\u001B[0;34mf\"\u001B[0m\u001B[0;34m`\u001B[0m\u001B[0;34m{\u001B[0m\u001B[0mfunction\u001B[0m\u001B[0;34m.\u001B[0m\u001B[0m__name__\u001B[0m\u001B[0;34m}\u001B[0m\u001B[0;34m` is considered unstable.\u001B[0m\u001B[0;34m\"\u001B[0m\u001B[0;34m)\u001B[0m\u001B[0;34m\u001B[0m\u001B[0;34m\u001B[0m\u001B[0m\n\u001B[0;32m---> 58\u001B[0;31m             \u001B[0;32mreturn\u001B[0m \u001B[0mfunction\u001B[0m\u001B[0;34m(\u001B[0m\u001B[0;34m*\u001B[0m\u001B[0margs\u001B[0m\u001B[0;34m,\u001B[0m \u001B[0;34m**\u001B[0m\u001B[0mkwargs\u001B[0m\u001B[0;34m)\u001B[0m\u001B[0;34m\u001B[0m\u001B[0;34m\u001B[0m\u001B[0m\n\u001B[0m",
      "\u001B[0;32m/opt/homebrew/Caskroom/miniforge/base/envs/spark_at_py12/lib/python3.12/site-packages/polars/dataframe/frame.py\u001B[0m in \u001B[0;36m?\u001B[0;34m(self)\u001B[0m\n\u001B[1;32m    633\u001B[0m         if not _HVPLOT_AVAILABLE or parse_version(hvplot.__version__) < parse_version(\n\u001B[1;32m    634\u001B[0m             \u001B[0;34m\"0.9.1\"\u001B[0m\u001B[0;34m\u001B[0m\u001B[0;34m\u001B[0m\u001B[0m\n\u001B[1;32m    635\u001B[0m         \u001B[0;34m)\u001B[0m\u001B[0;34m:\u001B[0m\u001B[0;34m\u001B[0m\u001B[0;34m\u001B[0m\u001B[0m\n\u001B[1;32m    636\u001B[0m             \u001B[0mmsg\u001B[0m \u001B[0;34m=\u001B[0m \u001B[0;34m\"hvplot>=0.9.1 is required for `.plot`\"\u001B[0m\u001B[0;34m\u001B[0m\u001B[0;34m\u001B[0m\u001B[0m\n\u001B[0;32m--> 637\u001B[0;31m             \u001B[0;32mraise\u001B[0m \u001B[0mModuleUpgradeRequiredError\u001B[0m\u001B[0;34m(\u001B[0m\u001B[0mmsg\u001B[0m\u001B[0;34m)\u001B[0m\u001B[0;34m\u001B[0m\u001B[0;34m\u001B[0m\u001B[0m\n\u001B[0m\u001B[1;32m    638\u001B[0m         \u001B[0mhvplot\u001B[0m\u001B[0;34m.\u001B[0m\u001B[0mpost_patch\u001B[0m\u001B[0;34m(\u001B[0m\u001B[0;34m)\u001B[0m\u001B[0;34m\u001B[0m\u001B[0;34m\u001B[0m\u001B[0m\n\u001B[1;32m    639\u001B[0m         \u001B[0;32mreturn\u001B[0m \u001B[0mhvplot\u001B[0m\u001B[0;34m.\u001B[0m\u001B[0mplotting\u001B[0m\u001B[0;34m.\u001B[0m\u001B[0mcore\u001B[0m\u001B[0;34m.\u001B[0m\u001B[0mhvPlotTabularPolars\u001B[0m\u001B[0;34m(\u001B[0m\u001B[0mself\u001B[0m\u001B[0;34m)\u001B[0m\u001B[0;34m\u001B[0m\u001B[0;34m\u001B[0m\u001B[0m\n",
      "\u001B[0;31mModuleUpgradeRequiredError\u001B[0m: hvplot>=0.9.1 is required for `.plot`"
     ]
    }
   ],
   "execution_count": 5
  },
  {
   "metadata": {},
   "cell_type": "code",
   "source": "",
   "id": "93c192e8b6273476",
   "outputs": [],
   "execution_count": null
  }
 ],
 "metadata": {
  "kernelspec": {
   "display_name": "Python 3",
   "language": "python",
   "name": "python3"
  },
  "language_info": {
   "codemirror_mode": {
    "name": "ipython",
    "version": 2
   },
   "file_extension": ".py",
   "mimetype": "text/x-python",
   "name": "python",
   "nbconvert_exporter": "python",
   "pygments_lexer": "ipython2",
   "version": "2.7.6"
  }
 },
 "nbformat": 4,
 "nbformat_minor": 5
}
